{
 "cells": [
  {
   "cell_type": "code",
   "execution_count": 2,
   "id": "c0ffdda4",
   "metadata": {},
   "outputs": [],
   "source": [
    "import pandas as pd"
   ]
  },
  {
   "cell_type": "code",
   "execution_count": 15,
   "id": "6e67a68e",
   "metadata": {},
   "outputs": [
    {
     "name": "stdout",
     "output_type": "stream",
     "text": [
      "                            uniq_id            crawl_timestamp  \\\n",
      "0  ea27d3f6324e928ffad78e41785af518  2019-10-01 10:30:04 +0000   \n",
      "1  d07c8e520e8ebaa5a87f0836cc68f9b6  2019-10-21 08:28:21 +0000   \n",
      "2  1fb0e84af7304158648ed147bd5002c1  2019-09-05 08:29:32 +0000   \n",
      "3  338c5cf895d22e7999b0643ac0905a5e  2019-10-23 13:16:59 +0000   \n",
      "4  21a0d7662194ef2fd38dde2a31c08dcd  2019-09-05 05:59:59 +0000   \n",
      "\n",
      "                                    url  \\\n",
      "0  https://www.seek.com.au/job/40059535   \n",
      "1  https://www.seek.com.au/job/40204856   \n",
      "2  https://www.seek.com.au/job/39870997   \n",
      "3   https://www.seek.co.nz/job/40203087   \n",
      "4  https://www.seek.com.au/job/39870277   \n",
      "\n",
      "                               job_title                         category  \\\n",
      "0                   Medical Device Sales             Healthcare & Medical   \n",
      "1  Casual Domestic Cleaner in Brookfield                Trades & Services   \n",
      "2          Casual Bartender in Geraldton            Hospitality & Tourism   \n",
      "3              Senior Advisor Engagement             Government & Defence   \n",
      "4               Administration Assistant  Administration & Office Support   \n",
      "\n",
      "                            company_name                           city  \\\n",
      "0  Pettit Pharma & Device Search Pty Ltd                       Brisbane   \n",
      "1                             Jora Local                       Brisbane   \n",
      "2                             Jora Local  Geraldton, Gascoyne & Midwest   \n",
      "3                     Ministry of Health                     Wellington   \n",
      "4               Koonwarra Village School         Bairnsdale & Gippsland   \n",
      "\n",
      "               state    country   post_date  ... postdate_yyyymmdd  \\\n",
      "0         Queensland  Australia  2019-09-30  ...          20190930   \n",
      "1         Queensland  Australia  2019-10-20  ...          20191020   \n",
      "2  Western Australia  Australia  2019-09-05  ...          20190905   \n",
      "3        New Zealand        NaN  2019-10-20  ...          20191020   \n",
      "4           Victoria  Australia  2019-09-04  ...          20190904   \n",
      "\n",
      "  has_expired last_expiry_check_date postdate_in_indexname_format  \\\n",
      "0       false             2019.10.01                   2019.09.28   \n",
      "1       false             2019.10.21                   2019.10.14   \n",
      "2         NaN                    NaN                   2019.09.01   \n",
      "3       false             2019.10.23                   2019.10.14   \n",
      "4         NaN                    NaN                   2019.09.01   \n",
      "\n",
      "  inferred_city     inferred_state inferred_country fitness_score  \\\n",
      "0      Brisbane         Queensland        Australia          10.0   \n",
      "1      Brisbane         Queensland        Australia          10.0   \n",
      "2     Geraldton  Western australia        Australia          10.0   \n",
      "3                       Wellington      New zealand          10.0   \n",
      "4    Bairnsdale           Victoria        Australia          10.0   \n",
      "\n",
      "                contact_email html_job_description  \n",
      "0                         NaN                  NaN  \n",
      "1                         NaN                  NaN  \n",
      "2                         NaN                  NaN  \n",
      "3  recruitment@health.govt.nz                  NaN  \n",
      "4                         NaN                  NaN  \n",
      "\n",
      "[5 rows x 30 columns]\n"
     ]
    }
   ],
   "source": [
    "data = pd.read_json(\"data/jobListings.json\", lines=True)\n",
    "print(data.head())"
   ]
  },
  {
   "cell_type": "code",
   "execution_count": 16,
   "id": "cdc41f78",
   "metadata": {},
   "outputs": [],
   "source": [
    "descriptions = data[\"job_description\"]\n"
   ]
  },
  {
   "cell_type": "code",
   "execution_count": 18,
   "id": "55baf8f9",
   "metadata": {},
   "outputs": [
    {
     "name": "stdout",
     "output_type": "stream",
     "text": [
      "THE COMPANY YOU WOULD BE JOINING  This leading global medical technology company whose products, services and more than 10,000 employees worldwide help people get better care inside and outside the hospital. Their products sit across 5 areas, some of which include Patient Monitoring & Diagnostics, Surgical Safety & Respiratory Health. Their goal is to improve clinical and economic outcomes and ensure caregivers in more than 100 countries have the products they need to protect patients, speed up recoveries and manage conditions.  THE BENEFITS  Every day, around the world, this organisation enhances outcomes for patients and their caregivers, ensuring that their customers see value in what they provide and hence, are keen to have their products in the hospitals they manage. This sales role will provide you with plenty of variety and an abundance of customers at your fingertips to call on and partner with. Excellent, inspiring leader to guide you on your sales journey and offer you training for your career development.  WHAT YOU WILL LEAD AND MANAGE  This Territory Manager role in Brisbane, Qld, is responsible for maximising revenue growth and profitability, ensuring sales targets are achieved. You will execute sales strategies through the development of new business and maintaining existing business in order to reach your sales targets and maximise market presence by spending as much time in field with customers in metro Brisbane hospitals. You will prepare and present sales proposals, tenders, product demonstrations and in-servicing to potential and existing customers. Negotiating pricing, resolving customer issues and participating in sales promotions and marketing activities is part of this role. You will provide technical consultation and monitor and control inventory issues as will as training and educating clinical staff on your products.  WHAT EXPERIENCE WILL YOU NEED TO GET THE JOB?  Ideally you will have held a similar role with a minimum of 3 years medical device sales experience. Tertiary qualifications in science or nursing or equivalent experience is preferred. Experience managing high value tenders with hospitals and healthcare providers is ideal.  Interested? Please 'apply now'. Please note, your details/resume will not be sent anywhere without a formal interview and, if successful, your subsequent prior permission. Personal information provided will be used for recruitment purposes only and be treated in the strictest confidence. Only shortlisted candidates will be contacted.\n",
      "A business in Brookfield is seeking a casual Domestic Cleaner (up to 30 hours per week) to join our team.        To be considered for this role you should:                             Have Australian work rights\n",
      "A restaurant in Geraldton is seeking a casual Bartender (up to 35 hours per week) to join our team.        To be considered for this role you should:                             Be available at both days at weekends                    Have at least 1 year of experience as a Bartender                    Have Australian work rights\n",
      "Opportunity to enhance stakeholder relations between the Ministry and the sectorWill suit a senior communications professional looking to apply their stakeholder management expertise.Wellington locationJoin a brand new team and help enhance stakeholder engagement and communications between the Directorate, the Ministry and the Sector.The role of Senior Advisor Engagement is responsible for supporting the strategic engagement with stakeholders, ensuring the Directorate and Ministry understands their challenges and ideas, and provides regular and high quality Health Workforce information to the sector.This position sits within our Health Workforce Directorate which as stewards of the health workforce they work in partnership across the health system to ensure that there is a diverse workforce pipeline that will provide the health workforce New Zealand needs now and in the future; and that the employment environment is both sustainable and adaptable to new and evolving models of care.To be successful, we are looking for your skills in communications and stakeholder engagement including the development and implementation of successful communication channels. You will have an eye for detail, better writing skills than the person who wrote this ad, and relevant communications qualifications and or experience.The Ministry of Health is the kaitiaki of the health and disability system in New Zealand. We are responsible for providing active stewardship and leadership across the nations health and disability system. We ensure the system provides people with the highest levels of care, regardless of who they are or where they live.We have embarked on a transformational change programme which is creating some exciting career opportunities. If you would like to contribute to the important work that we do, please join us.You will find a copy of the Position Description attached or online at careers.health.govt.nzFor further information, contact recruitment@health.govt.nzPlease click Apply for this Job to upload your CV and cover letter.Advertising for this role closes on Monday, 4 November 2019.We encourage diversity and inclusion at the Ministry of Health and are committed to equal opportunity in all our employment policies and procedures. In particular, we want to ensure accessibility needs are well supported, so the recruitment process is fair and equitable for all. Therefore, please let us know if there is any support we can provide to ensure the recruitment process is fully accessible to you. You can contact us at recruitment@health.govt.nz if you would like to discuss any accessibility needs you may have.\n",
      "About the business and the role  Koonwarra Village School (KVS) is an independent primary school offering enrolment for children in Foundation to Grade 6.  Our philosophy and guiding principles inform how we go about our teaching and learning and we invite you to view our website: koonwarravillageschool.org to find out more about our approach. We are a passionate team working closely together to provide a human-scale, democratic school life that inspires a life-long love of learning for students and staff alike.  The Administrative Assistant is a key support role for our school community of approximately 60 students and 11 staff. The role is a permanent part-time role commencing immediately.  During 2019, the hours will be an average of 14 hours per week to facilitate training.  From 2020, the hours will increase to an average of 21 hours per week.  This role has 4 weeks annual leave (pro-rata) and continues through the school holidays.  Job tasks and responsibilities  Some of the key elements of this role include: Supporting the Principal with a range of administrative activities for our school in line with the school's philosophy and policies and procedures.Welcoming our families and visitors and being a key liaison point for information about our school, both face to face and online.Enrolling students and maintaining accurate family and emergency contact details and enrolment registers.Coordinating and responding to maintenance issues to ensure the smooth and safe running of the school environment.Preparing and tracking invoices for all school fee related items as well as coordinating all family allowance claims. A full Position Description with details of all duties, along with Terms and Conditions of the role can be found on the news page of our website: www.koonwarravillageschool.org/news Applications must include a cover letter and CV and should be emailed by the 19th September to recruitment@koonwarravillageschool.org  Skills and experience  Please let us know about any relevant experience working in a frontline administration role.  Please also share your experience with IT systems. A current working with childrens check is required.  \n",
      "A leading Top Tier Commercial New Build and Fit Out Contractor operating at the highest end of the market is seeking a Contracts Administrator with exposure to Hospitality, Education, Government, Aged Care, Industrial and High End Commercial Build / Refurb or some of the above. Due to expert strategic planning this hugely successful Commercial Contractor are amongst the busiest in NSW and they are extremely well positioned to take advantage of every major growth area in the construction industry over the next 5 years. They have secured several high profile multi-million dollar Project – several hospitality refurbs in Sydney CBD, a large Aged Care build in Western Sydney and large Hospital build in Western Sydney. As the successful Contracts administrator you can take your pick of the projects. They have an extremely diverse portfolio ranging from a $5 Million fit out right up to a $70 Million aged care project  The Person:  3- 6 years experience in a commercial contractor delivering either aged care, government or hospitality work Must have a stable work history with reputable mid to top tier commercial builders Experience on Cheops / Jobpac desirable but not essential A tertiary qualification in a construction related discipline Exceptional communication and presentation skills  The Role:  Ensure the correspondence, records, insurances, schedules and reports are filed and accessible in accordance with documentation Let Subcontracts and Formulate and lodge Client progress payment claims Price variations and process variations orders Ensure all variations and claims made against the company have been fully documented and approved Liaise with project manager and site supervisory personnel re sub-contractors/suppliers obligations, potential variations, and any issues that affect payments under the contract. Project Finalization – Ensure that all contractual submissions and requirements at PC and Final Completion have been provided prior to final payment of subcontractors/suppliers. Check with the Project team that the following has been achieved across Defects, Manuals and variations and claims    In exchange for your hard work you will be rewarded with an above average salary package of circa $110K - $150K p.a, depending on the project you are on and your experience  If interested, send your CV in confidence to owen.walsh @ fusionpeople.com.au or call (02) 8005 2000\n",
      "To apply for a position, applicants must address the selection criteria found in the 'Work For Us' section of the TURSA website www.tursa.com.au. Applications submitted without addressing the selection criteria WILL NOT be considered. TURSA offers above average salaries and conditions of employment such as:  a 72-hour, 9-day fortnight 12% superannuation Tursa Employment & Training is a large not-for-profit, independent organisation that successfully delivers a number of employment and training services for Federal and State Governments from Noosa Heads in QLD to Forster in NSW. TURSA is seeking to employ Disability Employment Advocates with experience in case management and/or marketing who meet our selection criteria to work within the area listed below:   Ipswich   Employment experience in Disability Employment Services or jobactive within the last five years is desirable although not essential. The successful applicants will have exceptional people skills i.e. the ability and disposition to engage positively and empathetically with clients to work with and support them to move into employment or self-employment.  The successful applicant will have a minimum qualification of Certificate IV in Employment Services, or related qualifications in the field of Disability Services, or a preparedness to obtain this qualification within the first 12 months of employment. Information on TURSA sites, programs, and services is available on the TURSA website www.tursa.com.au or through Links on our website. TURSA reserves the right to appoint before the closing date.\n",
      "About our company  Dineamic is an energetic, fast-growing food and well-being company that thrives on high quality products and balanced nutrition.  Immediate start available for right candidate  About your job  Responsibilities include the following:  Relay finished goods and raw material between kitchen and operations and storage areas Loading/unloading trucks using forklift or walkie stacker and checking inbound deliveries Picking and packing finished goods in cool room  Ensuring raw materials are stored and handled in accordance with food safety standards  Be part of the Dineamic Team who prides itself on delivery in full and on time Monday - Friday, 1pm - 9pm with flexibility as per team requirements To be successful in this role  you will be able to  Possess a great attitude and willingness to learn Recognise the importance of working together as a team and understanding how important all of our customers are Passion for doing a good job Enjoy working in fast paced environment as a team and individually Physically fit and strong Great interpersonal skills talking with colleagues at many different locations Full working rights excellent organisational, communication, and time management current and valid police check Forklift license Who we are  We are a diverse and hardworking team who aims to offer a great working environment. We appreciate the importance of work life balance and we have an active and social work culture.  We would love to have a conversation with anyone who believes they have what it takes to be part of the Dineamic Team.  Please email your resume via the apply now button. We apologise in advance as only shortlisted candidates will be contacted.Immediate start available for right candidate   \n",
      "Established in 2008, our client is an innovative, high-tech, award-winning Brisbane company delivering key solar projects and supplying over 9000 homes annually with electrical, solar and air-conditioning services. Our blue-chip clients include Origin, ERM and ABB and we have won numerous awards including the Queensland Government’s 2019 Master Electrician of the Year and the 2018 Brisbane Young Entrepreneur’s Specialist Services Award.  Yet it is our client’s staff of 30 full-timers and many approved sub-contractors that make the real difference. Our client hires for attitude and train for skill and offer a supportive and positive work environment so people are always developing their skills and expertise. People like Harley who took out the national apprentice of the year award in 2017 and Roman who started with us in 2018 and won Qld’s Apprentice of The Year award this year. Because of our motivated employees, we are constantly evolving our business and improving our offerings. Our client has had 400% growth over the last 5 years and our long-term goal is to become the national market leader and continue to revolutionise projects delivery with our systems approach to work flow.  To be successful in this role, you will need:  The key to success is your positive attitude, aptitude, and commitment to becoming a Trade Qualified Electrician. You will bring the following:High School completion certificate, (preferred)Manual Driver's License and own transportBe passionate and willing to learnWork and communicate well with othersStrong analytical and problem-solving skillsA demonstrated commitment to continual improvement, innovation and learningAs an employer SSG pride themselves on positive corporate culture and encourage applications from a diverse range of candidates.  Shortlisted Candidates  Shortlisted candidates will be invited to undertake a multi-stage recruitment process, tailored specifically for the Electrical Industry, including:Face to Face InterviewsAptitude AssessmentsReference CheckingEvidence of identification, licences and qualificationIf you are someone who is looking to be a valuable member of an award-winning company, please Apply Now using the prompts and direct any enquiries to Solar Service Guys on 1300 77 4897\n",
      "Benowa, Gold Coast Jump start your career with a leading Healthcare Company Work with industry recognised Pathologists and leading edge technology    Healius is one of Australia's leading publically listed healthcare companies. Healius’ pathology subsidiary SDS Pathology is an amalgamated business comprised of a number of well-established brands across Australia.  QML Pathology is a comprehensive medical laboratory and pathology practice with laboratory and patient pathology collection centre locations throughout Queensland, Northern NSW and Tasmania (Tasmanian Medical Laboratories).    About the role  Based at our Regional  Laboratory in Benowa on the Gold Coast , we are looking to appoint a motivated, quality driven  Admin /Lab Assistant to join our Call Centre /SRA Department. This Casual position will be required to work various shifts between the hours of 7:00am and 9:30pm, Monday to Friday, 8:00am until 4:00 pm Saturday. You will receive full training and join a friendly and professional team committed to patient care and scientific excellence.     Your duties will include:  Call centre   Handling phone calls from internal & external customers Co-ordinating House calls Co-ordinating Courier Pick-ups Maintaining of the Urgent Telephone Monitor Request slip storage; and General office duties- filing, housekeeping. SRA (Specimen Reception Area)   The receipt and processing of specimens from Doctor & clinic collections Prioritising urgent specimens Taking Added test calls Scanning request forms to the correct category Tracking parcels to Brisbane lab Equipment cleaning including Biohazard cabinet, centrifuge & work benches; and Compliance and adherence with QML Pathology Policies and Procedures, Workplace Health and Safety Procedures and Quality Assurance Processes.    About you  To be successful in this role, you will demonstrate:   Sound keyboard skills including Microsoft Office Suite An unwavering commitment to quality and excellence; Strong time management, interpersonal, communication and organisational skills; The ability to cope and thrive in a busy environment; Self-initiative and problem solving capabilities; Exceptional attention to detail and accuracy; and Previous lab experience and exposure to medical terminology desirable, but not essential.    If this role appeals to you and aligns well with your qualities, skills and experience, please forward your current Resume via the ‘apply for this job’ button today!    Only people with the right to work in Australia need apply.  Employment may be subject to a satisfactory pre-employment medical assessment.  QML Pathology is an equal opportunity employer.  Unsolicited applications will not be accepted.    \n"
     ]
    }
   ],
   "source": [
    "for description in descriptions[:10]: \n",
    "    print(description)"
   ]
  },
  {
   "cell_type": "code",
   "execution_count": null,
   "id": "d0ca500b",
   "metadata": {},
   "outputs": [],
   "source": [
    "[1,2,3,...,898,899,900]"
   ]
  }
 ],
 "metadata": {
  "kernelspec": {
   "display_name": "Python 3 (ipykernel)",
   "language": "python",
   "name": "python3"
  },
  "language_info": {
   "codemirror_mode": {
    "name": "ipython",
    "version": 3
   },
   "file_extension": ".py",
   "mimetype": "text/x-python",
   "name": "python",
   "nbconvert_exporter": "python",
   "pygments_lexer": "ipython3",
   "version": "3.11.4"
  }
 },
 "nbformat": 4,
 "nbformat_minor": 5
}
