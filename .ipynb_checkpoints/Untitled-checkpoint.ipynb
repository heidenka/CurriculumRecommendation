{
 "cells": [
  {
   "cell_type": "code",
   "execution_count": 2,
   "id": "f4057c0f",
   "metadata": {},
   "outputs": [],
   "source": [
    "import tensorflow as tf\n",
    "import numpy as np\n",
    "import pandas as pd"
   ]
  },
  {
   "cell_type": "code",
   "execution_count": 3,
   "id": "ad1d0588",
   "metadata": {},
   "outputs": [],
   "source": [
    "cvsPath = \"data/cvs.csv\"\n",
    "joblistingsPath = \"data/jobListings.json\"\n",
    "masterProgramsPath = \"data/masterProgramsPath.csv\""
   ]
  },
  {
   "cell_type": "code",
   "execution_count": null,
   "id": "efd097f4",
   "metadata": {},
   "outputs": [],
   "source": [
    "with open(cvsPath) as file:\n",
    "    file."
   ]
  }
 ],
 "metadata": {
  "kernelspec": {
   "display_name": "Python 3 (ipykernel)",
   "language": "python",
   "name": "python3"
  },
  "language_info": {
   "codemirror_mode": {
    "name": "ipython",
    "version": 3
   },
   "file_extension": ".py",
   "mimetype": "text/x-python",
   "name": "python",
   "nbconvert_exporter": "python",
   "pygments_lexer": "ipython3",
   "version": "3.11.4"
  }
 },
 "nbformat": 4,
 "nbformat_minor": 5
}
