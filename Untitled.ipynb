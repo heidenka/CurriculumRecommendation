{
 "cells": [
  {
   "cell_type": "code",
   "execution_count": 1,
   "id": "9411668e",
   "metadata": {},
   "outputs": [
    {
     "name": "stdout",
     "output_type": "stream",
     "text": [
      "<s><triplet> accounting theory <subj> accounting <obj> studies <triplet> accounting <subj> accounting theory <obj> studied by <subj> non-accountants <obj> practiced by <triplet> non-accountants <subj> accounting <obj> field of this occupation</s>\n"
     ]
    }
   ],
   "source": [
    "from transformers import pipeline\n",
    "\n",
    "triplet_extractor = pipeline('text2text-generation', model='Babelscape/rebel-large', tokenizer='Babelscape/rebel-large')\n",
    "\n",
    "# We need to use the tokenizer manually since we need special tokens.\n",
    "\n",
    "text = \"It aims to consolidate the understanding of accounting theory and practice gained in the other units. The corporate governance, economic consequences/costly contracting, conceptual framework, and social responsibility perspectives are examined in relation to a number of current accounting issues. The outcomes of this unit are: critically review current issues of relevance to accounting professionals; provide an overview of the issues relating to accounting policy choice, costly contracting and economic consequences; critically review the benefits, and potential risks, of ICT for accounting practice, business systems, communication, and decision-making; demonstrate the ability to apply research skills to investigate a contemporary accounting issue; demonstrate the ability to produce clear and concise written communication in a complex accounting context to accountants and non-accountants; reflect on performance feedback to identify and action opportunities for learning and self-improvement; demonstrate an understanding and respond appropriately to ethical, cultural, social and sustainability issues.\" \n",
    "extracted_text = triplet_extractor.tokenizer.batch_decode([triplet_extractor(text, return_tensors=True, return_text=False)[0][\"generated_token_ids\"]])\n",
    "print(extracted_text[0])"
   ]
  },
  {
   "cell_type": "code",
   "execution_count": 2,
   "id": "1efb125c",
   "metadata": {},
   "outputs": [
    {
     "name": "stdout",
     "output_type": "stream",
     "text": [
      "[{'head': 'accounting theory', 'type': 'studies', 'tail': 'accounting'}, {'head': 'accounting', 'type': 'studied by', 'tail': 'accounting theory'}, {'head': 'accounting', 'type': 'practiced by', 'tail': 'non-accountants'}, {'head': 'non-accountants', 'type': 'field of this occupation', 'tail': 'accounting'}]\n"
     ]
    }
   ],
   "source": [
    "# Function to parse the generated text and extract the triplets\n",
    "def extract_triplets(text):\n",
    "    triplets = []\n",
    "    relation, subject, relation, object_ = '', '', '', ''\n",
    "    text = text.strip()\n",
    "    current = 'x'\n",
    "    for token in text.replace(\"<s>\", \"\").replace(\"<pad>\", \"\").replace(\"</s>\", \"\").split():\n",
    "        if token == \"<triplet>\":\n",
    "            current = 't'\n",
    "            if relation != '':\n",
    "                triplets.append({'head': subject.strip(), 'type': relation.strip(),'tail': object_.strip()})\n",
    "                relation = ''\n",
    "            subject = ''\n",
    "        elif token == \"<subj>\":\n",
    "            current = 's'\n",
    "            if relation != '':\n",
    "                triplets.append({'head': subject.strip(), 'type': relation.strip(),'tail': object_.strip()})\n",
    "            object_ = ''\n",
    "        elif token == \"<obj>\":\n",
    "            current = 'o'\n",
    "            relation = ''\n",
    "        else:\n",
    "            if current == 't':\n",
    "                subject += ' ' + token\n",
    "            elif current == 's':\n",
    "                object_ += ' ' + token\n",
    "            elif current == 'o':\n",
    "                relation += ' ' + token\n",
    "    if subject != '' and relation != '' and object_ != '':\n",
    "        triplets.append({'head': subject.strip(), 'type': relation.strip(),'tail': object_.strip()})\n",
    "    return triplets\n",
    "\n",
    "\n",
    "extracted_triplets = extract_triplets(extracted_text[0])\n",
    "print(extracted_triplets)\n"
   ]
  },
  {
   "cell_type": "code",
   "execution_count": 27,
   "id": "442dc4d2",
   "metadata": {},
   "outputs": [],
   "source": [
    "from transformers import AutoModelForSeq2SeqLM, AutoTokenizer\n",
    "\n",
    "def extract_triplets(text):\n",
    "    triplets = []\n",
    "    relation, subject, relation, object_ = '', '', '', ''\n",
    "    text = text.strip()\n",
    "    current = 'x'\n",
    "    for token in text.replace(\"<s>\", \"\").replace(\"<pad>\", \"\").replace(\"</s>\", \"\").split():\n",
    "        if token == \"<triplet>\":\n",
    "            current = 't'\n",
    "            if relation != '':\n",
    "                triplets.append({'head': subject.strip(), 'type': relation.strip(),'tail': object_.strip()})\n",
    "                relation = ''\n",
    "            subject = ''\n",
    "        elif token == \"<subj>\":\n",
    "            current = 's'\n",
    "            if relation != '':\n",
    "                triplets.append({'head': subject.strip(), 'type': relation.strip(),'tail': object_.strip()})\n",
    "            object_ = ''\n",
    "        elif token == \"<obj>\":\n",
    "            current = 'o'\n",
    "            relation = ''\n",
    "        else:\n",
    "            if current == 't':\n",
    "                subject += ' ' + token\n",
    "            elif current == 's':\n",
    "                object_ += ' ' + token\n",
    "            elif current == 'o':\n",
    "                relation += ' ' + token\n",
    "    if subject != '' and relation != '' and object_ != '':\n",
    "        triplets.append({'head': subject.strip(), 'type': relation.strip(),'tail': object_.strip()})\n",
    "    return triplets\n",
    "\n",
    "# Load model and tokenizer\n",
    "tokenizer = AutoTokenizer.from_pretrained(\"Babelscape/rebel-large\")\n",
    "model = AutoModelForSeq2SeqLM.from_pretrained(\"Babelscape/rebel-large\")\n",
    "gen_kwargs = {\n",
    "    \"max_length\": 256,\n",
    "    \"length_penalty\": 0,\n",
    "    \"num_beams\": 3,\n",
    "    \"num_return_sequences\": 3,\n",
    "}\n",
    "\n",
    "# Text to extract triplets from\n",
    "#text = 'Punta Cana is a resort town in the municipality of Higüey, in La Altagracia Province, the easternmost province of the Dominican Republic.'\n",
    "jobTextList = [\n",
    "    \"Salary\\n$101,955 to $115,005\\nOpportunity Type\\nFull-Time\\nOpportunity Status\\nOngoing\\nAPS Classification\\nExecutive Level 1\\nClosing Date\\n25/06/2020\\nPosted 11/06/2020\\nDepartment of Defence\\nCost Model & Benchmarking Manager\\nOsborne SA\\nThe key duties of the position include:\",\n",
    "    \"Your Role\\nThe key responsibilities for the Cost Model and Benchmarking Manager are:\\n* Establishing and maintaining the NCB Construction Cost Model\\n* Developing the NCB capability to forecast construction costs and assess the impact of program changes\\n* Managing the NCB construction benchmarking program\\n* Maintain a historical record of construction costs and cost metrics\\n* Develop and prepare estimates of construction costs and cost drivers for future programs.\",\n",
    "    \"* Work with the NCB Technical Cost Estimator and Business Cost manager to prepare NCB cost forecasts.\\n* Relate actual costs in the shipyard to the cost models and identify areas for efficiency improvements.\\n* Assist NCB technical cost estimator in the assessment of contract proposals\\n* Contribute to the delivery of the NCB Strategic Plan in relation to cost activities by assisting with the development, review and implementation of processes and systems to support current and future business requirements.\",\n",
    "    \"Our Ideal Candidate\\nTo succeed in this role you must have personal drive and integrity with the ability to:\\n* Build a collaborative team environment that provides services and outcomes consistent with the organization's operating model with a focus on achieving business objectives.\\n* Develop and implement initiatives that are aligned with the organizational strategic plan.\",\n",
    "    \"* Lead and motivate teams to continuously achieve business outcomes that support the strategic vision.\\n* Support the NCB leadership team by monitoring and effectively reporting the progress of assigned tasking in a timely manner\\nEligibility\\nApplicants must be able to obtain and maintain a security clearance at 'Negative Vetting Level 1'.\",\n",
    "    \"RecruitAbility applies to this vacancy. Under the RecruitAbility scheme you will be invited to participate in further assessment activity for the vacancy if you choose\"\n",
    "]\n",
    "unitDescription = [\n",
    "    \"Contemporary Issues in Accounting - Face to face / Blended learning is a unit at the UWA Business School. The unit code is ACCT5501. This is the capstone unit in the Master of Professional Accounting. It aims to consolidate the understanding of accounting theory and practice gained in the other units. The corporate governance, economic consequences/costly contracting, conceptual framework, and social responsibility perspectives are examined in relation to a number of current accounting issues.\",\n",
    "    \"The outcomes of this unit are: critically review current issues of relevance to accounting professionals; provide an overview of the issues relating to accounting policy choice, costly contracting and economic consequences; critically review the benefits, and potential risks, of ICT for accounting practice, business systems, communication, and decision-making; demonstrate the ability to apply research skills to investigate a contemporary accounting issue; demonstrate the ability to produce clear and concise written communication in a complex accounting context to accountants and non-accountants; reflect on performance feedback to identify and action opportunities for learning and self-improvement; demonstrate an understanding and respond appropriately to ethical, cultural, social and sustainability issues.\"\n",
    "]\n",
    "\n",
    "\n"
   ]
  },
  {
   "cell_type": "code",
   "execution_count": 28,
   "id": "5b014e99",
   "metadata": {},
   "outputs": [
    {
     "name": "stdout",
     "output_type": "stream",
     "text": [
      "{'head': 'Master of Professional Accounting', 'type': 'part of', 'tail': 'UWA Business School'}\n",
      "{'head': 'Contemporary Issues in Accounting', 'type': 'part of', 'tail': 'UWA Business School'}\n",
      "{'head': 'Master of Professional Accounting', 'type': 'field of work', 'tail': 'accounting'}\n",
      "{'head': 'non-accountant', 'type': 'subclass of', 'tail': 'accountant'}\n",
      "{'head': 'non-accountants', 'type': 'subclass of', 'tail': 'accounting professionals'}\n",
      "{'head': 'non-accountant', 'type': 'subclass of', 'tail': 'accounting professional'}\n"
     ]
    }
   ],
   "source": [
    "\n",
    "\n",
    "for text in unitDescription:\n",
    "    # Tokenizer text\n",
    "    model_inputs = tokenizer(text, max_length=256, padding=True, truncation=True, return_tensors = 'pt')\n",
    "\n",
    "    # Generate\n",
    "    generated_tokens = model.generate(\n",
    "        model_inputs[\"input_ids\"].to(model.device),\n",
    "        attention_mask=model_inputs[\"attention_mask\"].to(model.device),\n",
    "        **gen_kwargs,\n",
    "    )\n",
    "\n",
    "    # Extract text\n",
    "    decoded_preds = tokenizer.batch_decode(generated_tokens, skip_special_tokens=False)\n",
    "\n",
    "    # Extract triplets\n",
    "    for idx, sentence in enumerate(decoded_preds):\n",
    "        #print(f'Prediction triplets sentence {idx}')\n",
    "        triplets = extract_triplets(sentence)\n",
    "        for t in triplets:\n",
    "            print(t)\n"
   ]
  },
  {
   "cell_type": "code",
   "execution_count": null,
   "id": "96ba1ed8",
   "metadata": {},
   "outputs": [],
   "source": []
  }
 ],
 "metadata": {
  "kernelspec": {
   "display_name": "Python 3 (ipykernel)",
   "language": "python",
   "name": "python3"
  },
  "language_info": {
   "codemirror_mode": {
    "name": "ipython",
    "version": 3
   },
   "file_extension": ".py",
   "mimetype": "text/x-python",
   "name": "python",
   "nbconvert_exporter": "python",
   "pygments_lexer": "ipython3",
   "version": "3.11.4"
  }
 },
 "nbformat": 4,
 "nbformat_minor": 5
}
